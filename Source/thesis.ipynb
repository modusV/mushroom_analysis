{
  "cells": [
    {
      "cell_type": "markdown",
      "metadata": {
        "id": "p-7gaIhR-GO8",
        "colab_type": "text",
        "pycharm": {}
      },
      "source": [
        "# Safe to eat or deadly poisonous?\n",
        "### An analysis on mushroom classification by Lorenzo Santolini"
      ],
      "execution_count": 78,
      "outputs": [
        {
          "name": "stdout",
          "text": [
            "\u003cxml\u003e\u003cvar name\u003d\"_ih\" type\u003d\"list\" qualifier\u003d\"builtins\" value\u003d\"%3Cclass %27list%27\u0026gt;%3A %5B%27%27%2C %27n_columns_original \u003d dataset.columns.count%28%29%5Cndataset \u003d %5Bcol for col in dataset.columns if col.var%28%29 %21\u003d 0%5D%5Cnprint%28f%22%7Bn_columns_original - dataset.columns.count%28%29%7D not significant columns have been removed%22%29%27%2C %22%23 Constants%5CnPLOTLY_COLORS \u003d %5B%27%23140DFF%27%2C %27%23FF0DE2%27%5D%22%2C %22import pandas as pd%5Cnimport numpy as np%5Cn%5Cnimport matplotlib.pyplot as plt%5Cn%5Cnfrom sklearn.preprocessing import LabelEncoder%5Cn%5Cnimport plotly%5Cnimport plotly.plotly as py%5Cnfrom plotly.plotly import plot%2C iplot%5Cnimport plotly.graph_objs as go%5Cnimport plotly.figure_factory as ff%5Cn%5Cnplotly.tools.set_credentials_file%28username\u003d%27modusV%27%2C api_key\u003d%27OBKKnTR2vYTeKIOKtRU6%27%29%22%2C %27%23 Load the dataset%5Cndataset \u003d pd.read_csv%28%22./Input/mushrooms.csv%22%29%5Cn%23 dataset \u003d pd.read_csv%28%22./mushrooms.csv%22%29%5Cnprint%28%22The dataset has %25d rows and %25d columns.%22 %25 dataset.shape%29%27%2C %27%23 Count number of classes for classification%5Cnprint%28f%22There are %7Bdataset%5B%5C%27class%5C%27%5D.unique%28%29.size%7D different classes%3A%22%5Cn      f%22%5C%5Cn %7Bdataset%5B%5C%27class%5C%27%5D.unique%28%29.toli...\" isContainer\u003d\"True\" /\u003e\n\u003cvar name\u003d\"_oh\" type\u003d\"dict\" qualifier\u003d\"builtins\" value\u003d\"%3Cclass %27dict%27\u0026gt;%3A %7B27%3A   class cap-shape cap-surface cap-color bruises odor gill-attachment  %5C%0A0     p         x           s         n       t    p               f   %0A1     e         x           s         y       t    a               f   %0A2     e         b           s         w       t    l               f   %0A3     p         x           y         w       t    p               f   %0A4     e         x           s         g       f    n               f   %0A%0A  gill-spacing gill-size gill-color   ...   stalk-surface-below-ring  %5C%0A0            c         n          k   ...                          s   %0A1            c         b          k   ...                          s   %0A2            c         b          n   ...                          s   %0A3            c         n          n   ...                          s   %0A4            w         b          k   ...                          s   %0A%0A  stalk-color-above-ring stalk-color-below-ring veil-type veil-color  %5C%0A0                      w                 ...\" isContainer\u003d\"True\" /\u003e\n\u003cvar name\u003d\"dataset\" type\u003d\"DataFrame\" qualifier\u003d\"pandas.core.frame\" value\u003d\"DataFrame%3A       class  cap-shape  cap-surface  cap-color  bruises  odor  %5C%0A0         1          5            2          4        1     6   %0A1         0          5            2          9        1     0   %0A2         0          0            2          8        1     3   %0A3         1          5            3          8        1     6   %0A4         0          5            2          3        0     5   %0A5         0          5            3          9        1     0   %0A6         0          0            2          8        1     0   %0A7         0          0            3          8        1     3   %0A8         1          5            3          8        1     6   %0A9         0          0            2          9        1     0   %0A10        0          5            3          9        1     3   %0A11        0          5            3          9        1     0   %0A12        0          0            2          9        1     0   %0A13        1          5            3          8        1     6   %0A14        0   ...\" isContainer\u003d\"True\" /\u003e\n\u003c/xml\u003e\n"
          ],
          "output_type": "stream"
        }
      ]
    },
    {
      "cell_type": "markdown",
      "metadata": {
        "id": "qHMpYeFE-GO_",
        "colab_type": "text",
        "pycharm": {}
      },
      "source": [
        "#### Code snippet for google colab\n",
        "This is a little code to import automatically the dataset into google colab. Provide your kaggle\u0027s API key (profile section) when file requested"
      ]
    },
    {
      "cell_type": "code",
      "execution_count": 40,
      "metadata": {
        "id": "lymZO7fd-GPB",
        "colab_type": "code",
        "outputId": "1500800d-a1b6-48f3-ee94-c1f8f7bf6797",
        "colab": {
          "resources": {
            "http://localhost:8080/nbextensions/google.colab/files.js": {
              "data": "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\u003d",
              "ok": true,
              "headers": [
                [
                  "content-type",
                  "application/javascript"
                ]
              ],
              "status": 200.0,
              "status_text": ""
            }
          },
          "base_uri": "https://localhost:8080/",
          "height": 206.0
        },
        "collapsed": false,
        "pycharm": {}
      },
      "outputs": [
        {
          "data": {
            "text/plain": "\u0027\\n!pip install -U -q kaggle\\n!mkdir -p ~/.kaggle\\n\\n# Insert here your kaggle API key\\nfrom google.colab import files\\nfiles.upload()\\n\\n!cp kaggle.json ~/.kaggle/\\n!kaggle datasets download -d uciml/mushroom-classification\\n!unzip mushroom-classification.zip\\n!ls\\n\u0027"
          },
          "metadata": {},
          "output_type": "execute_result",
          "execution_count": 40
        }
      ],
      "source": "\n# Little code snippet to import on Google Colab the dataset\n\u0027\u0027\u0027\n!pip install -U -q kaggle\n!mkdir -p ~/.kaggle\n\n# Insert here your kaggle API key\nfrom google.colab import files\nfiles.upload()\n\n!cp kaggle.json ~/.kaggle/\n!kaggle datasets download -d uciml/mushroom-classification\n!unzip mushroom-classification.zip\n!ls\n\u0027\u0027\u0027\n"
    },
    {
      "cell_type": "code",
      "execution_count": 70,
      "outputs": [],
      "source": "# Constants\nPLOTLY_COLORS \u003d [\u0027#140DFF\u0027, \u0027#FF0DE2\u0027]\nCOLOR_PALETTE \u003d [\u0027#FF0DE2\u0027, \u0027#BD0CE8\u0027, \u0027#8B00FF\u0027, \u0027#4D0FE8\u0027, \u0027#140DFF\u0027]\nCOLORSCALE_HEATMAP \u003d [         [0.0, \u0027rgb(70,0,252)\u0027], \n                [0.1111111111111111, \u0027rgb(78,0,252)\u0027], \n                [0.2222222222222222, \u0027rgb(90,0,252)\u0027], \n                [0.3333333333333333, \u0027rgb(110,0,248)\u0027], \n                [0.4444444444444444, \u0027rgb(130,0,238)\u0027], \n                [0.5555555555555556, \u0027rgb(145,0,228)\u0027], \n                [0.6666666666666666, \u0027rgb(166,0,218)\u0027], \n                [0.7777777777777778, \u0027rgb(187,0,213)\u0027], \n                [0.8888888888888888, \u0027rgb(200,0,202)\u0027], \n                               [1.0, \u0027rgb(210,0,191)\u0027]]\n",
      "metadata": {
        "pycharm": {
          "metadata": false,
          "name": "#%% \n"
        }
      }
    },
    {
      "cell_type": "markdown",
      "metadata": {
        "id": "AvuAiGTR-GPK",
        "colab_type": "text",
        "pycharm": {}
      },
      "source": "## Introduction\nThis dataset includes descriptions of hypothetical samples corresponding to 23 species of gilled mushrooms in the Agaricus and Lepiota Family Mushroom. Each species is identified as edible or poisonous. Rows are composed by 23 different fields, each one of them identifying a specific charateristic:\n\n- Class: poisonous\u003dp, edible\u003de\n- Cap-shape: bell\u003db, conical\u003dc, convex\u003dx, flat\u003df, knobbed\u003dk, sunken\u003ds\n- Cap-surface: fibrous\u003df, grooves\u003dg, scaly\u003dy, smooth\u003ds\n- Cap-color: brown\u003dn, buff\u003db, cinnamon\u003dc, gray\u003dg, green\u003dr, pink\u003dp, purple\u003du, red\u003de, white\u003dw, yellow\u003dy\n- Bruises: bruises\u003dt, no\u003df\n- Odor: almond\u003da, anise\u003dl, creosote\u003dc, fishy\u003dy, foul\u003df, musty\u003dm, none\u003dn, pungent\u003dp, spicy\u003ds\n- Gill-attachment: attached\u003da, descending\u003dd, free\u003df, notched\u003dn\n- Gill-spacing: close\u003dc, crowded\u003dw, distant\u003dd\n- Gill-size: broad\u003db, narrow\u003dn\n- Gill-color: black\u003dk, brown\u003dn, buff\u003db, chocolate\u003dh, gray\u003dg, green\u003dr, orange\u003do, pink\u003dp, purple\u003du,red\u003de, white\u003dw, yellow\u003dy\n- Stalk-shape: enlarging\u003de, tapering\u003dt\n- Stalk-root: bulbous\u003db, club\u003dc, cup\u003du, equal\u003de, rhizomorphs\u003dz, rooted\u003dr, missing\u003d?\n- Stalk-surface-above-ring: fibrous\u003df, scaly\u003dy, silky\u003dk, smooth\u003ds\n- Stalk-surface-below-ring: fibrous\u003df, scaly\u003dy, silky\u003dk, smooth\u003ds\n- Stalk-color-above-ring: brown\u003dn, buff\u003db, cinnamon\u003dc, gray\u003dg, orange\u003do, pink\u003dp, red\u003de, white\u003dw, yellow\u003dy\n- Stalk-color-below-ring: brown\u003dn, buff\u003db, cinnamon\u003dc, gray\u003dg, orange\u003do, pink\u003dp, red\u003de, white\u003dw, yellow\u003dy\n- Veil-type: partial\u003dp, universal\u003du\n- Veil-color: brown\u003dn, orange\u003do, white\u003dw, yellow\u003dy\n- Ring-number: none\u003dn, one\u003do, two\u003dt\n- Ring-type: cobwebby\u003dc, evanescent\u003de, flaring\u003df, large\u003dl, none\u003dn, pendant\u003dp, sheathing\u003ds, zone\u003dz\n- Spore-print-color: black\u003dk, brown\u003dn, buff\u003db, chocolate\u003dh, green\u003dr, orange\u003do, purple\u003du, white\u003dw, yellow\u003dy\n- Population: abundant\u003da, clustered\u003dc, numerous\u003dn, scattered\u003ds, several\u003dv, solitary\u003dy\n- Habitat: grasses\u003dg, leaves\u003dl, meadows\u003dm, paths\u003dp, urban\u003du, waste\u003dw, woods\u003dd\n\nThis analysis was conducted in Python 3.7.1 using Jupyter Notebook allows you to combine code, comments, multimedia, and visualizations in an interactive document — called a notebook, naturally — that can be shared, re-used, and re-worked. In addition, the following packages were used:\n\n- sklearn\n- pandas\n- numpy\n- plotly\n"
    },
    {
      "cell_type": "code",
      "execution_count": 42,
      "metadata": {
        "id": "NqdmLc1T-GPM",
        "colab_type": "code",
        "colab": {},
        "pycharm": {}
      },
      "outputs": [],
      "source": "import pandas as pd\nimport numpy as np\n\nimport matplotlib.pyplot as plt\n\nfrom sklearn.preprocessing import LabelEncoder\n\nimport plotly\nimport plotly.plotly as py\nfrom plotly.plotly import plot, iplot\nimport plotly.graph_objs as go\nimport plotly.figure_factory as ff\n\nplotly.tools.set_credentials_file(username\u003d\u0027modusV\u0027, api_key\u003d\u0027OBKKnTR2vYTeKIOKtRU6\u0027)"
    },
    {
      "cell_type": "markdown",
      "metadata": {
        "id": "MsceX1Ha-GPP",
        "colab_type": "text",
        "pycharm": {}
      },
      "source": [
        "## Dataset analysis and preprocessing\n",
        "Let\u0027s start importing the data:"
      ]
    },
    {
      "cell_type": "code",
      "execution_count": 43,
      "metadata": {
        "id": "WrVrmnkC-GPQ",
        "colab_type": "code",
        "outputId": "34a085e6-f211-474d-d621-13c35d773ab2",
        "colab": {
          "base_uri": "https://localhost:8080/",
          "height": 34.0
        },
        "pycharm": {}
      },
      "outputs": [
        {
          "name": "stdout",
          "text": [
            "The dataset has 8124 rows and 23 columns.\n"
          ],
          "output_type": "stream"
        }
      ],
      "source": "# Load the dataset\ndataset \u003d pd.read_csv(\"./Input/mushrooms.csv\")\n# dataset \u003d pd.read_csv(\"./mushrooms.csv\")\nprint(\"The dataset has %d rows and %d columns.\" % dataset.shape)"
    },
    {
      "cell_type": "markdown",
      "metadata": {
        "id": "rUMij2Vn-GPY",
        "colab_type": "text",
        "pycharm": {}
      },
      "source": [
        "Now we will look at the dataset to understand what are the different fields and their types:"
      ]
    },
    {
      "cell_type": "code",
      "execution_count": 44,
      "metadata": {
        "id": "YLAAo2NG-GPZ",
        "colab_type": "code",
        "outputId": "bf69c67b-5cc3-4e7b-c99b-3f944dc4f9c1",
        "colab": {
          "base_uri": "https://localhost:8080/",
          "height": 476.0
        },
        "pycharm": {}
      },
      "outputs": [
        {
          "name": "stdout",
          "text": [
            "There are 2 different classes:\n [\u0027p\u0027, \u0027e\u0027]\nUnique values for every field: \nclass                        2\ncap-shape                    6\ncap-surface                  4\ncap-color                   10\nbruises                      2\nodor                         9\ngill-attachment              2\ngill-spacing                 2\ngill-size                    2\ngill-color                  12\nstalk-shape                  2\nstalk-root                   5\nstalk-surface-above-ring     4\nstalk-surface-below-ring     4\nstalk-color-above-ring       9\nstalk-color-below-ring       9\nveil-type                    1\nveil-color                   4\nring-number                  3\nring-type                    5\nspore-print-color            9\npopulation                   6\nhabitat                      7\ndtype: int64\n"
          ],
          "output_type": "stream"
        }
      ],
      "source": [
        "# Count number of classes for classification\n",
        "print(f\"There are {dataset[\u0027class\u0027].unique().size} different classes:\"\n",
        "      f\"\\n {dataset[\u0027class\u0027].unique().tolist()}\")\n",
        "\n",
        "# Count number of unique data for every column\n",
        "print(f\"Unique values for every field: \\n{dataset.nunique()}\")\n"
      ]
    },
    {
      "cell_type": "code",
      "execution_count": 45,
      "metadata": {
        "id": "Zw05f7K41TbM",
        "colab_type": "code",
        "colab": {
          "base_uri": "https://localhost:8080/",
          "height": 584.0
        },
        "outputId": "cc03e97a-978b-4162-9700-e35864be2f16",
        "pycharm": {}
      },
      "outputs": [
        {
          "name": "stdout",
          "text": [
            "Data types: \n  class cap-shape cap-surface cap-color bruises odor gill-attachment  \\\n0     p         x           s         n       t    p               f   \n1     e         x           s         y       t    a               f   \n2     e         b           s         w       t    l               f   \n3     p         x           y         w       t    p               f   \n4     e         x           s         g       f    n               f   \n\n  gill-spacing gill-size gill-color   ...   stalk-surface-below-ring  \\\n0            c         n          k   ...                          s   \n1            c         b          k   ...                          s   \n2            c         b          n   ...                          s   \n3            c         n          n   ...                          s   \n4            w         b          k   ...                          s   \n\n  stalk-color-above-ring stalk-color-below-ring veil-type veil-color  \\\n0                      w                      w         p          w   \n1                      w                      w         p          w   \n2                      w                      w         p          w   \n3                      w                      w         p          w   \n4                      w                      w         p          w   \n\n  ring-number ring-type spore-print-color population habitat  \n0           o         p                 k          s       u  \n1           o         p                 n          n       g  \n2           o         p                 n          n       m  \n3           o         p                 k          s       u  \n4           o         e                 n          a       g  \n\n[5 rows x 23 columns]\nclass, cap-shape, cap-surface, cap-color, bruises, odor, gill-attachment, gill-spacing, gill-size, gill-color, stalk-shape, stalk-root, stalk-surface-above-ring, stalk-surface-below-ring, stalk-color-above-ring, stalk-color-below-ring, veil-type, veil-color, ring-number, ring-type, spore-print-color, population, habitat\n"
          ],
          "output_type": "stream"
        }
      ],
      "source": [
        "# See data types \n",
        "print(f\"Data types: \\n{dataset.head(5)}\")\n",
        "\n",
        "# All columns \n",
        "print(\", \".join(str(a) for a in dataset.columns))"
      ]
    },
    {
      "cell_type": "markdown",
      "metadata": {
        "id": "cex7tu-2-GPd",
        "colab_type": "text",
        "pycharm": {}
      },
      "source": [
        "From the above snippet we can notice that the fields are all string values; converting them to numeric values can make our analysis much easier. We will take care of this in the next phase."
      ]
    },
    {
      "cell_type": "markdown",
      "metadata": {
        "id": "bCu1b2Cp-GPe",
        "colab_type": "text",
        "pycharm": {}
      },
      "source": "## Preprocessing\nWe need to pre-process our data to \n"
    },
    {
      "cell_type": "code",
      "execution_count": 46,
      "outputs": [
        {
          "name": "stdout",
          "text": [
            "1 not significant columns have been removed\n"
          ],
          "output_type": "stream"
        }
      ],
      "source": "n_columns_original \u003d len(dataset.columns)\nto_drop \u003d [col for col in dataset.columns if dataset[col].nunique() \u003d\u003d 1]\ndataset.drop(to_drop, axis\u003d1, inplace\u003dTrue)\n\nprint(f\"{n_columns_original - len(dataset.columns)} not significant columns have been removed\")\n\n\n#### Handling missing values",
      "metadata": {
        "pycharm": {
          "metadata": false,
          "name": "#%% \n"
        }
      }
    },
    {
      "cell_type": "code",
      "execution_count": 47,
      "metadata": {
        "id": "STTvefR7-GPe",
        "colab_type": "code",
        "colab": {
          "base_uri": "https://localhost:8080/",
          "height": 34.0
        },
        "outputId": "d05926ed-45f5-4e85-fbce-c28433899659",
        "pycharm": {}
      },
      "outputs": [
        {
          "name": "stdout",
          "text": [
            "There are no null values\n"
          ],
          "output_type": "stream"
        }
      ],
      "source": "# Check if any field is null\nif dataset.isnull().any().any():\n    print(\"There are some null values\")\nelse:\n    print(\"There are no null values\")"
    },
    {
      "cell_type": "markdown",
      "metadata": {
        "id": "Ci9NhxfG-GPh",
        "colab_type": "text",
        "pycharm": {}
      },
      "source": [
        "It may seem that we have no missing value from the previous analysis, but if we look better,from the data description we can notice that in the field stalk-root there are some missing values, marked with the question mark; let\u0027s count how many of them there are:\n"
      ]
    },
    {
      "cell_type": "code",
      "execution_count": 48,
      "metadata": {
        "id": "gPC8nKhO-GPi",
        "colab_type": "code",
        "colab": {
          "base_uri": "https://localhost:8080/",
          "height": 34.0
        },
        "outputId": "2c71ac62-ec92-4de3-dd62-bc18b3caaeb6",
        "pycharm": {}
      },
      "outputs": [
        {
          "name": "stdout",
          "text": [
            "There are 2480 missing values in stalk-root column\n"
          ],
          "output_type": "stream"
        }
      ],
      "source": [
        "print(\"There are \" + str((dataset[\u0027stalk-root\u0027] \u003d\u003d \"?\").sum()) + \" missing values in stalk-root column\")"
      ]
    },
    {
      "cell_type": "markdown",
      "metadata": {
        "id": "elq4lX9b-GPl",
        "colab_type": "text",
        "pycharm": {}
      },
      "source": "When we find missing values in a dataset, there are some of the approaches that can be considered:\n\n1. Delete all rows containing a missing value\n2. Substitute with a constant value that has meaning within the domain, such as 0, distinct from all other values.\n3. Substitute with a value from another randomly selected record.\n4. Substitute with mean, median or mode value for the column.\n5. Substitute with a value estimated by another predictive model.\n\nIt is evident from the `dataset.head()` function that our fileds are composed by all string values. Given the fact that we would need to translate in any case every field to a numeric one, to better display them in graphs, a simple approach is to keep the missing data as a peculiar number different from the others, and simply apply the transformation as they were present.\n\nWe will use the LabelEncoder from the sklearn library, which allows us to perform this mapping:\n\n"
    },
    {
      "cell_type": "code",
      "execution_count": 57,
      "metadata": {
        "id": "2zmSqLQv-GPm",
        "colab_type": "code",
        "colab": {},
        "pycharm": {}
      },
      "outputs": [],
      "source": "def preprocess(dataset):\n  pre_data \u003d dataset.copy()\n  labelEncoder \u003d LabelEncoder()\n  for column in dataset.columns:\n    dataset[column] \u003d labelEncoder.fit_transform(dataset[column])\n  return pre_data, le"
    },
    {
      "cell_type": "code",
      "execution_count": 58,
      "metadata": {
        "id": "uoGEunWt0zSd",
        "colab_type": "code",
        "colab": {
          "base_uri": "https://localhost:8080/",
          "height": 324.0
        },
        "outputId": "ef424bf6-7701-4a51-89c0-04abb4e9419c",
        "pycharm": {}
      },
      "outputs": [
        {
          "data": {
            "text/plain": "   class  cap-shape  cap-surface  cap-color  bruises  odor  gill-attachment  \\\n0      1          5            2          4        1     6                1   \n1      0          5            2          9        1     0                1   \n2      0          0            2          8        1     3                1   \n3      1          5            3          8        1     6                1   \n4      0          5            2          3        0     5                1   \n\n   gill-spacing  gill-size  gill-color   ...     stalk-surface-above-ring  \\\n0             0          1           4   ...                            2   \n1             0          0           4   ...                            2   \n2             0          0           5   ...                            2   \n3             0          1           5   ...                            2   \n4             1          0           4   ...                            2   \n\n   stalk-surface-below-ring  stalk-color-above-ring  stalk-color-below-ring  \\\n0                         2                       7                       7   \n1                         2                       7                       7   \n2                         2                       7                       7   \n3                         2                       7                       7   \n4                         2                       7                       7   \n\n   veil-color  ring-number  ring-type  spore-print-color  population  habitat  \n0           2            1          4                  2           3        5  \n1           2            1          4                  3           2        1  \n2           2            1          4                  3           2        3  \n3           2            1          4                  2           3        5  \n4           2            1          0                  3           0        1  \n\n[5 rows x 22 columns]",
            "text/html": "\u003cdiv\u003e\n\u003cstyle scoped\u003e\n    .dataframe tbody tr th:only-of-type {\n        vertical-align: middle;\n    }\n\n    .dataframe tbody tr th {\n        vertical-align: top;\n    }\n\n    .dataframe thead th {\n        text-align: right;\n    }\n\u003c/style\u003e\n\u003ctable border\u003d\"1\" class\u003d\"dataframe\"\u003e\n  \u003cthead\u003e\n    \u003ctr style\u003d\"text-align: right;\"\u003e\n      \u003cth\u003e\u003c/th\u003e\n      \u003cth\u003eclass\u003c/th\u003e\n      \u003cth\u003ecap-shape\u003c/th\u003e\n      \u003cth\u003ecap-surface\u003c/th\u003e\n      \u003cth\u003ecap-color\u003c/th\u003e\n      \u003cth\u003ebruises\u003c/th\u003e\n      \u003cth\u003eodor\u003c/th\u003e\n      \u003cth\u003egill-attachment\u003c/th\u003e\n      \u003cth\u003egill-spacing\u003c/th\u003e\n      \u003cth\u003egill-size\u003c/th\u003e\n      \u003cth\u003egill-color\u003c/th\u003e\n      \u003cth\u003e...\u003c/th\u003e\n      \u003cth\u003estalk-surface-above-ring\u003c/th\u003e\n      \u003cth\u003estalk-surface-below-ring\u003c/th\u003e\n      \u003cth\u003estalk-color-above-ring\u003c/th\u003e\n      \u003cth\u003estalk-color-below-ring\u003c/th\u003e\n      \u003cth\u003eveil-color\u003c/th\u003e\n      \u003cth\u003ering-number\u003c/th\u003e\n      \u003cth\u003ering-type\u003c/th\u003e\n      \u003cth\u003espore-print-color\u003c/th\u003e\n      \u003cth\u003epopulation\u003c/th\u003e\n      \u003cth\u003ehabitat\u003c/th\u003e\n    \u003c/tr\u003e\n  \u003c/thead\u003e\n  \u003ctbody\u003e\n    \u003ctr\u003e\n      \u003cth\u003e0\u003c/th\u003e\n      \u003ctd\u003e1\u003c/td\u003e\n      \u003ctd\u003e5\u003c/td\u003e\n      \u003ctd\u003e2\u003c/td\u003e\n      \u003ctd\u003e4\u003c/td\u003e\n      \u003ctd\u003e1\u003c/td\u003e\n      \u003ctd\u003e6\u003c/td\u003e\n      \u003ctd\u003e1\u003c/td\u003e\n      \u003ctd\u003e0\u003c/td\u003e\n      \u003ctd\u003e1\u003c/td\u003e\n      \u003ctd\u003e4\u003c/td\u003e\n      \u003ctd\u003e...\u003c/td\u003e\n      \u003ctd\u003e2\u003c/td\u003e\n      \u003ctd\u003e2\u003c/td\u003e\n      \u003ctd\u003e7\u003c/td\u003e\n      \u003ctd\u003e7\u003c/td\u003e\n      \u003ctd\u003e2\u003c/td\u003e\n      \u003ctd\u003e1\u003c/td\u003e\n      \u003ctd\u003e4\u003c/td\u003e\n      \u003ctd\u003e2\u003c/td\u003e\n      \u003ctd\u003e3\u003c/td\u003e\n      \u003ctd\u003e5\u003c/td\u003e\n    \u003c/tr\u003e\n    \u003ctr\u003e\n      \u003cth\u003e1\u003c/th\u003e\n      \u003ctd\u003e0\u003c/td\u003e\n      \u003ctd\u003e5\u003c/td\u003e\n      \u003ctd\u003e2\u003c/td\u003e\n      \u003ctd\u003e9\u003c/td\u003e\n      \u003ctd\u003e1\u003c/td\u003e\n      \u003ctd\u003e0\u003c/td\u003e\n      \u003ctd\u003e1\u003c/td\u003e\n      \u003ctd\u003e0\u003c/td\u003e\n      \u003ctd\u003e0\u003c/td\u003e\n      \u003ctd\u003e4\u003c/td\u003e\n      \u003ctd\u003e...\u003c/td\u003e\n      \u003ctd\u003e2\u003c/td\u003e\n      \u003ctd\u003e2\u003c/td\u003e\n      \u003ctd\u003e7\u003c/td\u003e\n      \u003ctd\u003e7\u003c/td\u003e\n      \u003ctd\u003e2\u003c/td\u003e\n      \u003ctd\u003e1\u003c/td\u003e\n      \u003ctd\u003e4\u003c/td\u003e\n      \u003ctd\u003e3\u003c/td\u003e\n      \u003ctd\u003e2\u003c/td\u003e\n      \u003ctd\u003e1\u003c/td\u003e\n    \u003c/tr\u003e\n    \u003ctr\u003e\n      \u003cth\u003e2\u003c/th\u003e\n      \u003ctd\u003e0\u003c/td\u003e\n      \u003ctd\u003e0\u003c/td\u003e\n      \u003ctd\u003e2\u003c/td\u003e\n      \u003ctd\u003e8\u003c/td\u003e\n      \u003ctd\u003e1\u003c/td\u003e\n      \u003ctd\u003e3\u003c/td\u003e\n      \u003ctd\u003e1\u003c/td\u003e\n      \u003ctd\u003e0\u003c/td\u003e\n      \u003ctd\u003e0\u003c/td\u003e\n      \u003ctd\u003e5\u003c/td\u003e\n      \u003ctd\u003e...\u003c/td\u003e\n      \u003ctd\u003e2\u003c/td\u003e\n      \u003ctd\u003e2\u003c/td\u003e\n      \u003ctd\u003e7\u003c/td\u003e\n      \u003ctd\u003e7\u003c/td\u003e\n      \u003ctd\u003e2\u003c/td\u003e\n      \u003ctd\u003e1\u003c/td\u003e\n      \u003ctd\u003e4\u003c/td\u003e\n      \u003ctd\u003e3\u003c/td\u003e\n      \u003ctd\u003e2\u003c/td\u003e\n      \u003ctd\u003e3\u003c/td\u003e\n    \u003c/tr\u003e\n    \u003ctr\u003e\n      \u003cth\u003e3\u003c/th\u003e\n      \u003ctd\u003e1\u003c/td\u003e\n      \u003ctd\u003e5\u003c/td\u003e\n      \u003ctd\u003e3\u003c/td\u003e\n      \u003ctd\u003e8\u003c/td\u003e\n      \u003ctd\u003e1\u003c/td\u003e\n      \u003ctd\u003e6\u003c/td\u003e\n      \u003ctd\u003e1\u003c/td\u003e\n      \u003ctd\u003e0\u003c/td\u003e\n      \u003ctd\u003e1\u003c/td\u003e\n      \u003ctd\u003e5\u003c/td\u003e\n      \u003ctd\u003e...\u003c/td\u003e\n      \u003ctd\u003e2\u003c/td\u003e\n      \u003ctd\u003e2\u003c/td\u003e\n      \u003ctd\u003e7\u003c/td\u003e\n      \u003ctd\u003e7\u003c/td\u003e\n      \u003ctd\u003e2\u003c/td\u003e\n      \u003ctd\u003e1\u003c/td\u003e\n      \u003ctd\u003e4\u003c/td\u003e\n      \u003ctd\u003e2\u003c/td\u003e\n      \u003ctd\u003e3\u003c/td\u003e\n      \u003ctd\u003e5\u003c/td\u003e\n    \u003c/tr\u003e\n    \u003ctr\u003e\n      \u003cth\u003e4\u003c/th\u003e\n      \u003ctd\u003e0\u003c/td\u003e\n      \u003ctd\u003e5\u003c/td\u003e\n      \u003ctd\u003e2\u003c/td\u003e\n      \u003ctd\u003e3\u003c/td\u003e\n      \u003ctd\u003e0\u003c/td\u003e\n      \u003ctd\u003e5\u003c/td\u003e\n      \u003ctd\u003e1\u003c/td\u003e\n      \u003ctd\u003e1\u003c/td\u003e\n      \u003ctd\u003e0\u003c/td\u003e\n      \u003ctd\u003e4\u003c/td\u003e\n      \u003ctd\u003e...\u003c/td\u003e\n      \u003ctd\u003e2\u003c/td\u003e\n      \u003ctd\u003e2\u003c/td\u003e\n      \u003ctd\u003e7\u003c/td\u003e\n      \u003ctd\u003e7\u003c/td\u003e\n      \u003ctd\u003e2\u003c/td\u003e\n      \u003ctd\u003e1\u003c/td\u003e\n      \u003ctd\u003e0\u003c/td\u003e\n      \u003ctd\u003e3\u003c/td\u003e\n      \u003ctd\u003e0\u003c/td\u003e\n      \u003ctd\u003e1\u003c/td\u003e\n    \u003c/tr\u003e\n  \u003c/tbody\u003e\n\u003c/table\u003e\n\u003cp\u003e5 rows × 22 columns\u003c/p\u003e\n\u003c/div\u003e"
          },
          "metadata": {},
          "output_type": "execute_result",
          "execution_count": 58
        }
      ],
      "source": "le \u003d 0\npre_data, le \u003d preprocess(dataset)\n# Check new data\npre_data.head(5)\n"
    },
    {
      "cell_type": "markdown",
      "source": "Now let\u0027s check if there is any column not useful for classification, \nwhere the values are all the same (zero variance)\n\n",
      "metadata": {
        "pycharm": {
          "metadata": false
        }
      }
    },
    {
      "cell_type": "code",
      "execution_count": 59,
      "metadata": {
        "id": "Anlhvhr003fS",
        "colab_type": "code",
        "colab": {
          "base_uri": "https://localhost:8080/",
          "height": 85.0
        },
        "outputId": "e32f8bff-40c7-4077-a456-53e66937920c",
        "pycharm": {}
      },
      "outputs": [
        {
          "name": "stdout",
          "text": [
            "class\n0    4208\n1    3916\ndtype: int64\n"
          ],
          "output_type": "stream"
        }
      ],
      "source": "# Check new labels\nprint(pre_data.groupby(\u0027class\u0027).size())"
    },
    {
      "cell_type": "markdown",
      "metadata": {
        "id": "uVeB52sn-GPq",
        "colab_type": "text",
        "pycharm": {}
      },
      "source": [
        "We can notice that data have been transformed, and now the labels are represented with a 0/1 integer value. \n",
        "Now we can look deeper into some statistical details about the dataset, using the `dataset.describe` command on our pandas DataFrame dataset. The output describes:\n",
        "\n",
        "- count: number of samples (rows)\n",
        "- mean: the mean of the attribute among all samples\n",
        "- std: the standard deviation of the attribute\n",
        "- min: the minimal value of the attribute\n",
        "- 25%: the lower percentile\n",
        "- 50%: the median\n",
        "- 75%: the upper percentile\n",
        "- max: the maximal value of the attribute"
      ]
    },
    {
      "cell_type": "code",
      "execution_count": 60,
      "metadata": {
        "id": "UETXgdxl-GPq",
        "colab_type": "code",
        "outputId": "d00d3bad-431e-4f2b-b2a3-f893124a4e84",
        "colab": {
          "base_uri": "https://localhost:8080/",
          "height": 417.0
        },
        "pycharm": {}
      },
      "outputs": [
        {
          "data": {
            "text/plain": "             class    cap-shape  cap-surface    cap-color      bruises  \\\ncount  8124.000000  8124.000000  8124.000000  8124.000000  8124.000000   \nmean      0.482029     3.348104     1.827671     4.504677     0.415559   \nstd       0.499708     1.604329     1.229873     2.545821     0.492848   \nmin       0.000000     0.000000     0.000000     0.000000     0.000000   \n25%       0.000000     2.000000     0.000000     3.000000     0.000000   \n50%       0.000000     3.000000     2.000000     4.000000     0.000000   \n75%       1.000000     5.000000     3.000000     8.000000     1.000000   \nmax       1.000000     5.000000     3.000000     9.000000     1.000000   \n\n              odor  gill-attachment  gill-spacing    gill-size   gill-color  \\\ncount  8124.000000      8124.000000   8124.000000  8124.000000  8124.000000   \nmean      4.144756         0.974151      0.161497     0.309207     4.810684   \nstd       2.103729         0.158695      0.368011     0.462195     3.540359   \nmin       0.000000         0.000000      0.000000     0.000000     0.000000   \n25%       2.000000         1.000000      0.000000     0.000000     2.000000   \n50%       5.000000         1.000000      0.000000     0.000000     5.000000   \n75%       5.000000         1.000000      0.000000     1.000000     7.000000   \nmax       8.000000         1.000000      1.000000     1.000000    11.000000   \n\n          ...       stalk-surface-above-ring  stalk-surface-below-ring  \\\ncount     ...                    8124.000000               8124.000000   \nmean      ...                       1.575086                  1.603644   \nstd       ...                       0.621459                  0.675974   \nmin       ...                       0.000000                  0.000000   \n25%       ...                       1.000000                  1.000000   \n50%       ...                       2.000000                  2.000000   \n75%       ...                       2.000000                  2.000000   \nmax       ...                       3.000000                  3.000000   \n\n       stalk-color-above-ring  stalk-color-below-ring   veil-color  \\\ncount             8124.000000             8124.000000  8124.000000   \nmean                 5.816347                5.794682     1.965534   \nstd                  1.901747                1.907291     0.242669   \nmin                  0.000000                0.000000     0.000000   \n25%                  6.000000                6.000000     2.000000   \n50%                  7.000000                7.000000     2.000000   \n75%                  7.000000                7.000000     2.000000   \nmax                  8.000000                8.000000     3.000000   \n\n       ring-number    ring-type  spore-print-color   population      habitat  \ncount  8124.000000  8124.000000        8124.000000  8124.000000  8124.000000  \nmean      1.069424     2.291974           3.596750     3.644018     1.508616  \nstd       0.271064     1.801672           2.382663     1.252082     1.719975  \nmin       0.000000     0.000000           0.000000     0.000000     0.000000  \n25%       1.000000     0.000000           2.000000     3.000000     0.000000  \n50%       1.000000     2.000000           3.000000     4.000000     1.000000  \n75%       1.000000     4.000000           7.000000     4.000000     2.000000  \nmax       2.000000     4.000000           8.000000     5.000000     6.000000  \n\n[8 rows x 22 columns]",
            "text/html": "\u003cdiv\u003e\n\u003cstyle scoped\u003e\n    .dataframe tbody tr th:only-of-type {\n        vertical-align: middle;\n    }\n\n    .dataframe tbody tr th {\n        vertical-align: top;\n    }\n\n    .dataframe thead th {\n        text-align: right;\n    }\n\u003c/style\u003e\n\u003ctable border\u003d\"1\" class\u003d\"dataframe\"\u003e\n  \u003cthead\u003e\n    \u003ctr style\u003d\"text-align: right;\"\u003e\n      \u003cth\u003e\u003c/th\u003e\n      \u003cth\u003eclass\u003c/th\u003e\n      \u003cth\u003ecap-shape\u003c/th\u003e\n      \u003cth\u003ecap-surface\u003c/th\u003e\n      \u003cth\u003ecap-color\u003c/th\u003e\n      \u003cth\u003ebruises\u003c/th\u003e\n      \u003cth\u003eodor\u003c/th\u003e\n      \u003cth\u003egill-attachment\u003c/th\u003e\n      \u003cth\u003egill-spacing\u003c/th\u003e\n      \u003cth\u003egill-size\u003c/th\u003e\n      \u003cth\u003egill-color\u003c/th\u003e\n      \u003cth\u003e...\u003c/th\u003e\n      \u003cth\u003estalk-surface-above-ring\u003c/th\u003e\n      \u003cth\u003estalk-surface-below-ring\u003c/th\u003e\n      \u003cth\u003estalk-color-above-ring\u003c/th\u003e\n      \u003cth\u003estalk-color-below-ring\u003c/th\u003e\n      \u003cth\u003eveil-color\u003c/th\u003e\n      \u003cth\u003ering-number\u003c/th\u003e\n      \u003cth\u003ering-type\u003c/th\u003e\n      \u003cth\u003espore-print-color\u003c/th\u003e\n      \u003cth\u003epopulation\u003c/th\u003e\n      \u003cth\u003ehabitat\u003c/th\u003e\n    \u003c/tr\u003e\n  \u003c/thead\u003e\n  \u003ctbody\u003e\n    \u003ctr\u003e\n      \u003cth\u003ecount\u003c/th\u003e\n      \u003ctd\u003e8124.000000\u003c/td\u003e\n      \u003ctd\u003e8124.000000\u003c/td\u003e\n      \u003ctd\u003e8124.000000\u003c/td\u003e\n      \u003ctd\u003e8124.000000\u003c/td\u003e\n      \u003ctd\u003e8124.000000\u003c/td\u003e\n      \u003ctd\u003e8124.000000\u003c/td\u003e\n      \u003ctd\u003e8124.000000\u003c/td\u003e\n      \u003ctd\u003e8124.000000\u003c/td\u003e\n      \u003ctd\u003e8124.000000\u003c/td\u003e\n      \u003ctd\u003e8124.000000\u003c/td\u003e\n      \u003ctd\u003e...\u003c/td\u003e\n      \u003ctd\u003e8124.000000\u003c/td\u003e\n      \u003ctd\u003e8124.000000\u003c/td\u003e\n      \u003ctd\u003e8124.000000\u003c/td\u003e\n      \u003ctd\u003e8124.000000\u003c/td\u003e\n      \u003ctd\u003e8124.000000\u003c/td\u003e\n      \u003ctd\u003e8124.000000\u003c/td\u003e\n      \u003ctd\u003e8124.000000\u003c/td\u003e\n      \u003ctd\u003e8124.000000\u003c/td\u003e\n      \u003ctd\u003e8124.000000\u003c/td\u003e\n      \u003ctd\u003e8124.000000\u003c/td\u003e\n    \u003c/tr\u003e\n    \u003ctr\u003e\n      \u003cth\u003emean\u003c/th\u003e\n      \u003ctd\u003e0.482029\u003c/td\u003e\n      \u003ctd\u003e3.348104\u003c/td\u003e\n      \u003ctd\u003e1.827671\u003c/td\u003e\n      \u003ctd\u003e4.504677\u003c/td\u003e\n      \u003ctd\u003e0.415559\u003c/td\u003e\n      \u003ctd\u003e4.144756\u003c/td\u003e\n      \u003ctd\u003e0.974151\u003c/td\u003e\n      \u003ctd\u003e0.161497\u003c/td\u003e\n      \u003ctd\u003e0.309207\u003c/td\u003e\n      \u003ctd\u003e4.810684\u003c/td\u003e\n      \u003ctd\u003e...\u003c/td\u003e\n      \u003ctd\u003e1.575086\u003c/td\u003e\n      \u003ctd\u003e1.603644\u003c/td\u003e\n      \u003ctd\u003e5.816347\u003c/td\u003e\n      \u003ctd\u003e5.794682\u003c/td\u003e\n      \u003ctd\u003e1.965534\u003c/td\u003e\n      \u003ctd\u003e1.069424\u003c/td\u003e\n      \u003ctd\u003e2.291974\u003c/td\u003e\n      \u003ctd\u003e3.596750\u003c/td\u003e\n      \u003ctd\u003e3.644018\u003c/td\u003e\n      \u003ctd\u003e1.508616\u003c/td\u003e\n    \u003c/tr\u003e\n    \u003ctr\u003e\n      \u003cth\u003estd\u003c/th\u003e\n      \u003ctd\u003e0.499708\u003c/td\u003e\n      \u003ctd\u003e1.604329\u003c/td\u003e\n      \u003ctd\u003e1.229873\u003c/td\u003e\n      \u003ctd\u003e2.545821\u003c/td\u003e\n      \u003ctd\u003e0.492848\u003c/td\u003e\n      \u003ctd\u003e2.103729\u003c/td\u003e\n      \u003ctd\u003e0.158695\u003c/td\u003e\n      \u003ctd\u003e0.368011\u003c/td\u003e\n      \u003ctd\u003e0.462195\u003c/td\u003e\n      \u003ctd\u003e3.540359\u003c/td\u003e\n      \u003ctd\u003e...\u003c/td\u003e\n      \u003ctd\u003e0.621459\u003c/td\u003e\n      \u003ctd\u003e0.675974\u003c/td\u003e\n      \u003ctd\u003e1.901747\u003c/td\u003e\n      \u003ctd\u003e1.907291\u003c/td\u003e\n      \u003ctd\u003e0.242669\u003c/td\u003e\n      \u003ctd\u003e0.271064\u003c/td\u003e\n      \u003ctd\u003e1.801672\u003c/td\u003e\n      \u003ctd\u003e2.382663\u003c/td\u003e\n      \u003ctd\u003e1.252082\u003c/td\u003e\n      \u003ctd\u003e1.719975\u003c/td\u003e\n    \u003c/tr\u003e\n    \u003ctr\u003e\n      \u003cth\u003emin\u003c/th\u003e\n      \u003ctd\u003e0.000000\u003c/td\u003e\n      \u003ctd\u003e0.000000\u003c/td\u003e\n      \u003ctd\u003e0.000000\u003c/td\u003e\n      \u003ctd\u003e0.000000\u003c/td\u003e\n      \u003ctd\u003e0.000000\u003c/td\u003e\n      \u003ctd\u003e0.000000\u003c/td\u003e\n      \u003ctd\u003e0.000000\u003c/td\u003e\n      \u003ctd\u003e0.000000\u003c/td\u003e\n      \u003ctd\u003e0.000000\u003c/td\u003e\n      \u003ctd\u003e0.000000\u003c/td\u003e\n      \u003ctd\u003e...\u003c/td\u003e\n      \u003ctd\u003e0.000000\u003c/td\u003e\n      \u003ctd\u003e0.000000\u003c/td\u003e\n      \u003ctd\u003e0.000000\u003c/td\u003e\n      \u003ctd\u003e0.000000\u003c/td\u003e\n      \u003ctd\u003e0.000000\u003c/td\u003e\n      \u003ctd\u003e0.000000\u003c/td\u003e\n      \u003ctd\u003e0.000000\u003c/td\u003e\n      \u003ctd\u003e0.000000\u003c/td\u003e\n      \u003ctd\u003e0.000000\u003c/td\u003e\n      \u003ctd\u003e0.000000\u003c/td\u003e\n    \u003c/tr\u003e\n    \u003ctr\u003e\n      \u003cth\u003e25%\u003c/th\u003e\n      \u003ctd\u003e0.000000\u003c/td\u003e\n      \u003ctd\u003e2.000000\u003c/td\u003e\n      \u003ctd\u003e0.000000\u003c/td\u003e\n      \u003ctd\u003e3.000000\u003c/td\u003e\n      \u003ctd\u003e0.000000\u003c/td\u003e\n      \u003ctd\u003e2.000000\u003c/td\u003e\n      \u003ctd\u003e1.000000\u003c/td\u003e\n      \u003ctd\u003e0.000000\u003c/td\u003e\n      \u003ctd\u003e0.000000\u003c/td\u003e\n      \u003ctd\u003e2.000000\u003c/td\u003e\n      \u003ctd\u003e...\u003c/td\u003e\n      \u003ctd\u003e1.000000\u003c/td\u003e\n      \u003ctd\u003e1.000000\u003c/td\u003e\n      \u003ctd\u003e6.000000\u003c/td\u003e\n      \u003ctd\u003e6.000000\u003c/td\u003e\n      \u003ctd\u003e2.000000\u003c/td\u003e\n      \u003ctd\u003e1.000000\u003c/td\u003e\n      \u003ctd\u003e0.000000\u003c/td\u003e\n      \u003ctd\u003e2.000000\u003c/td\u003e\n      \u003ctd\u003e3.000000\u003c/td\u003e\n      \u003ctd\u003e0.000000\u003c/td\u003e\n    \u003c/tr\u003e\n    \u003ctr\u003e\n      \u003cth\u003e50%\u003c/th\u003e\n      \u003ctd\u003e0.000000\u003c/td\u003e\n      \u003ctd\u003e3.000000\u003c/td\u003e\n      \u003ctd\u003e2.000000\u003c/td\u003e\n      \u003ctd\u003e4.000000\u003c/td\u003e\n      \u003ctd\u003e0.000000\u003c/td\u003e\n      \u003ctd\u003e5.000000\u003c/td\u003e\n      \u003ctd\u003e1.000000\u003c/td\u003e\n      \u003ctd\u003e0.000000\u003c/td\u003e\n      \u003ctd\u003e0.000000\u003c/td\u003e\n      \u003ctd\u003e5.000000\u003c/td\u003e\n      \u003ctd\u003e...\u003c/td\u003e\n      \u003ctd\u003e2.000000\u003c/td\u003e\n      \u003ctd\u003e2.000000\u003c/td\u003e\n      \u003ctd\u003e7.000000\u003c/td\u003e\n      \u003ctd\u003e7.000000\u003c/td\u003e\n      \u003ctd\u003e2.000000\u003c/td\u003e\n      \u003ctd\u003e1.000000\u003c/td\u003e\n      \u003ctd\u003e2.000000\u003c/td\u003e\n      \u003ctd\u003e3.000000\u003c/td\u003e\n      \u003ctd\u003e4.000000\u003c/td\u003e\n      \u003ctd\u003e1.000000\u003c/td\u003e\n    \u003c/tr\u003e\n    \u003ctr\u003e\n      \u003cth\u003e75%\u003c/th\u003e\n      \u003ctd\u003e1.000000\u003c/td\u003e\n      \u003ctd\u003e5.000000\u003c/td\u003e\n      \u003ctd\u003e3.000000\u003c/td\u003e\n      \u003ctd\u003e8.000000\u003c/td\u003e\n      \u003ctd\u003e1.000000\u003c/td\u003e\n      \u003ctd\u003e5.000000\u003c/td\u003e\n      \u003ctd\u003e1.000000\u003c/td\u003e\n      \u003ctd\u003e0.000000\u003c/td\u003e\n      \u003ctd\u003e1.000000\u003c/td\u003e\n      \u003ctd\u003e7.000000\u003c/td\u003e\n      \u003ctd\u003e...\u003c/td\u003e\n      \u003ctd\u003e2.000000\u003c/td\u003e\n      \u003ctd\u003e2.000000\u003c/td\u003e\n      \u003ctd\u003e7.000000\u003c/td\u003e\n      \u003ctd\u003e7.000000\u003c/td\u003e\n      \u003ctd\u003e2.000000\u003c/td\u003e\n      \u003ctd\u003e1.000000\u003c/td\u003e\n      \u003ctd\u003e4.000000\u003c/td\u003e\n      \u003ctd\u003e7.000000\u003c/td\u003e\n      \u003ctd\u003e4.000000\u003c/td\u003e\n      \u003ctd\u003e2.000000\u003c/td\u003e\n    \u003c/tr\u003e\n    \u003ctr\u003e\n      \u003cth\u003emax\u003c/th\u003e\n      \u003ctd\u003e1.000000\u003c/td\u003e\n      \u003ctd\u003e5.000000\u003c/td\u003e\n      \u003ctd\u003e3.000000\u003c/td\u003e\n      \u003ctd\u003e9.000000\u003c/td\u003e\n      \u003ctd\u003e1.000000\u003c/td\u003e\n      \u003ctd\u003e8.000000\u003c/td\u003e\n      \u003ctd\u003e1.000000\u003c/td\u003e\n      \u003ctd\u003e1.000000\u003c/td\u003e\n      \u003ctd\u003e1.000000\u003c/td\u003e\n      \u003ctd\u003e11.000000\u003c/td\u003e\n      \u003ctd\u003e...\u003c/td\u003e\n      \u003ctd\u003e3.000000\u003c/td\u003e\n      \u003ctd\u003e3.000000\u003c/td\u003e\n      \u003ctd\u003e8.000000\u003c/td\u003e\n      \u003ctd\u003e8.000000\u003c/td\u003e\n      \u003ctd\u003e3.000000\u003c/td\u003e\n      \u003ctd\u003e2.000000\u003c/td\u003e\n      \u003ctd\u003e4.000000\u003c/td\u003e\n      \u003ctd\u003e8.000000\u003c/td\u003e\n      \u003ctd\u003e5.000000\u003c/td\u003e\n      \u003ctd\u003e6.000000\u003c/td\u003e\n    \u003c/tr\u003e\n  \u003c/tbody\u003e\n\u003c/table\u003e\n\u003cp\u003e8 rows × 22 columns\u003c/p\u003e\n\u003c/div\u003e"
          },
          "metadata": {},
          "output_type": "execute_result",
          "execution_count": 60
        }
      ],
      "source": "# Get insights on the dataset\ndataset.describe()\n"
    },
    {
      "cell_type": "code",
      "execution_count": 61,
      "metadata": {
        "id": "Nt1wWxhx-GPu",
        "colab_type": "code",
        "colab": {
          "base_uri": "https://localhost:8080/",
          "height": 68.0
        },
        "outputId": "f172d168-c8f9-43e9-ac4f-640157c0d868",
        "pycharm": {}
      },
      "outputs": [
        {
          "name": "stdout",
          "text": [
            "0    4208\n1    3916\nName: class, dtype: int64\n"
          ],
          "output_type": "stream"
        }
      ],
      "source": "y \u003d dataset[\"class\"].value_counts()\nprint(y)\nclass_dict \u003d [\"edible\", \"poisonous\"]\n"
    },
    {
      "cell_type": "markdown",
      "source": "This is the class distribution:",
      "metadata": {
        "pycharm": {
          "metadata": false,
          "name": "#%% md\n"
        }
      }
    },
    {
      "cell_type": "code",
      "execution_count": 62,
      "outputs": [
        {
          "data": {
            "text/plain": "\u003cplotly.tools.PlotlyDisplay object\u003e",
            "text/html": "\u003ciframe id\u003d\"igraph\" scrolling\u003d\"no\" style\u003d\"border:none;\" seamless\u003d\"seamless\" src\u003d\"https://plot.ly/~modusV/11.embed\" height\u003d\"400px\" width\u003d\"400px\"\u003e\u003c/iframe\u003e"
          },
          "metadata": {},
          "output_type": "execute_result",
          "execution_count": 62
        }
      ],
      "source": "data \u003d [go.Bar(\n            x\u003dclass_dict,\n            y\u003dy,\n            marker\u003ddict(\n            color\u003dPLOTLY_COLORS),\n    )]\n\nlayout \u003d go.Layout(title\u003d\"Class distribution\",\n                   autosize\u003dFalse,\n                   width\u003d400,\n                   height\u003d400,\n                   yaxis\u003ddict(\n                        title\u003d\u0027N. samples\u0027,\n                    ),\n                   )\nfig \u003d go.Figure(data\u003ddata, layout\u003dlayout)\npy.iplot(fig, filename\u003d\u0027color-bar\u0027)\n",
      "metadata": {
        "pycharm": {
          "metadata": false,
          "name": "#%%\n"
        }
      }
    },
    {
      "cell_type": "markdown",
      "source": "\nAt this point we can analyze the distribution of our data using a boxplot. \nA boxplot is a standardized way of displaying the distribution of data based on a \nfive number summary (“minimum”, first quartile (Q1), median, third quartile (Q3), and “maximum”). \nIt can tell you about your outliers and what their values are. \nIt can also tell you if your data is symmetrical, how tightly your data is grouped, \nand if and how your data is skewed.\nThe information that we can find in a box plot are:\n\n- **median** (Q2/50th Percentile): the middle value of the dataset.\n- **first quartile** (Q1/25th Percentile): the middle number between the smallest number (not the “minimum”) and the median of the dataset.\n- **third quartile** (Q3/75th Percentile): the middle value between the median and the highest value (not the “maximum”) of the dataset.\n- **interquartile range** (IQR): 25th to the 75th percentile.\n- **outliers** (shown as green circles)\n- **maximum**: Q3 + 1.5*IQR\n- **minimum**: Q1 -1.5*IQR\n\nIt makes no sense showing binary or with few different values fields, so we are going to filter them before plotting.\n",
      "metadata": {
        "pycharm": {
          "metadata": false,
          "name": "#%% md\n"
        }
      }
    },
    {
      "cell_type": "code",
      "execution_count": 64,
      "outputs": [
        {
          "data": {
            "text/plain": "\u003cplotly.tools.PlotlyDisplay object\u003e",
            "text/html": "\u003ciframe id\u003d\"igraph\" scrolling\u003d\"no\" style\u003d\"border:none;\" seamless\u003d\"seamless\" src\u003d\"https://plot.ly/~modusV/13.embed\" height\u003d\"525px\" width\u003d\"100%\"\u003e\u003c/iframe\u003e"
          },
          "metadata": {},
          "output_type": "execute_result",
          "execution_count": 64
        }
      ],
      "source": "\ndef create_box(type, data, col, visible\u003dFalse):\n    if type \u003d\u003d \"edible\":\n        c \u003d PLOTLY_COLORS[0]\n    else:\n        c \u003d PLOTLY_COLORS[1]\n    return go.Box(\n        y \u003d data[col],\n        name \u003d type,\n        marker\u003ddict(color \u003d c),\n        visible\u003dvisible,\n    )\n\nedible \u003d pre_data[pre_data[\"class\"] \u003d\u003d 0]\npoisonous \u003d pre_data[pre_data[\"class\"] \u003d\u003d 1]\nbox_features \u003d [col for col in pre_data.columns if ((col !\u003d \u0027class\u0027) and (dataset[col].nunique() \u003e 5))]\n\nactive_index \u003d 0\nbox_edible \u003d [(create_box(\"edible\", edible, col, False) if i !\u003d active_index \n               else create_box(\"edible\", edible, col, True)) \n              for i, col in enumerate(box_features)]\n\nbox_poisonous \u003d [(create_box(\"poisonous\", poisonous, col, False) if i !\u003d active_index \n               else create_box(\"poisonous\", poisonous, col, True)) \n              for i, col in enumerate(box_features)]\n\ndata \u003d box_edible + box_poisonous\nn_features \u003d len(box_features)\nsteps \u003d []\n\nfor i in range(n_features):\n    step \u003d dict(\n        method \u003d \u0027restyle\u0027,  \n        args \u003d [\u0027visible\u0027, [False] * len(data)],\n        label \u003d box_features[i],\n    )\n    step[\u0027args\u0027][1][i] \u003d True # Toggle i\u0027th trace to \"visible\"\n    step[\u0027args\u0027][1][i + n_features] \u003d True # Toggle i\u0027th trace to \"visible\"\n    steps.append(step)\n    \nsliders \u003d [dict(\n    active \u003d active_index,\n    currentvalue \u003d dict(\n        prefix \u003d \"Feature: \", \n        xanchor\u003d \u0027center\u0027,\n    ),\n    pad \u003d {\"t\": 50},\n    steps \u003d steps,\n    len\u003d1,\n)]\n\nlayout \u003d dict(\n    sliders\u003dsliders,\n    yaxis\u003ddict(\n        title\u003d\u0027value\u0027,\n        automargin\u003dTrue,\n    ),\n    legend\u003ddict(\n        x\u003d0,\n        y\u003d1,\n    ),\n)\n\nfig \u003d dict(data\u003ddata, layout\u003dlayout)\npy.iplot(fig, filename\u003d\u0027box_slider\u0027)\n",
      "metadata": {
        "pycharm": {
          "metadata": false,
          "name": "#%%\n"
        }
      }
    },
    {
      "cell_type": "markdown",
      "source": "\nFrom the boxplot above, we can see that the colour and the shape of the \ncap are not an effective parameter to decide whether a mushroom is poisonous or edible, \nbecause their plots are very similar (same median and very close distribution). \nThe gill color instead, is more significant; \n",
      "metadata": {
        "pycharm": {
          "metadata": false,
          "name": "#%% md\n"
        }
      }
    },
    {
      "cell_type": "markdown",
      "source": "\nLet\u0027s investigate the correlation between variables:\n",
      "metadata": {
        "pycharm": {
          "metadata": false,
          "name": "#%% md\n"
        }
      }
    },
    {
      "cell_type": "code",
      "execution_count": 78,
      "outputs": [
        {
          "data": {
            "text/plain": "\u003cplotly.tools.PlotlyDisplay object\u003e",
            "text/html": "\u003ciframe id\u003d\"igraph\" scrolling\u003d\"no\" style\u003d\"border:none;\" seamless\u003d\"seamless\" src\u003d\"https://plot.ly/~modusV/14.embed\" height\u003d\"700px\" width\u003d\"850px\"\u003e\u003c/iframe\u003e"
          },
          "metadata": {},
          "output_type": "execute_result",
          "execution_count": 78
        }
      ],
      "source": "correlation_matrix \u003d pre_data.corr(method\u003d\u0027pearson\u0027)\n\ntrace \u003d go.Heatmap(\n    z\u003dcorrelation_matrix.values.tolist(), \n    x\u003dcorrelation_matrix.columns, \n    y\u003dcorrelation_matrix.columns, \n    colorscale\u003dCOLORSCALE_HEATMAP,\n    zmin\u003d-1,\n    zmax\u003d1)\n    \n\ndata\u003d[trace]\n\nlayout \u003d go.Layout(\n    title\u003d\u0027Heatmap of columns correlation\u0027,\n    autosize\u003dFalse,\n    width\u003d850,\n    height\u003d700,\n    yaxis\u003dgo.layout.YAxis(automargin\u003dTrue),\n    xaxis\u003ddict(tickangle\u003d40),\n    margin\u003dgo.layout.Margin(l\u003d0, r\u003d200, b\u003d200, t\u003d80)\n)\n\nfig \u003d go.Figure(data\u003ddata, layout\u003dlayout)\npy.iplot(fig, filename\u003d\u0027labelled-heatmap4\u0027)\n",
      "metadata": {
        "pycharm": {
          "metadata": false,
          "name": "#%%\n"
        }
      }
    },
    {
      "cell_type": "markdown",
      "source": "\nTODO: Give some impressions on the heatmap\n\n\n\n",
      "metadata": {
        "pycharm": {
          "metadata": false,
          "name": "#%% md\n"
        }
      }
    }
  ],
  "metadata": {
    "colab": {
      "name": "thesis.ipynb",
      "version": "0.3.2",
      "provenance": [],
      "collapsed_sections": []
    },
    "kernelspec": {
      "name": "python3",
      "language": "python",
      "display_name": "Python 3"
    }
  },
  "nbformat": 4,
  "nbformat_minor": 0
}